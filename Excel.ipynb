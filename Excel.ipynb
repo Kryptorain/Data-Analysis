{
 "cells": [
  {
   "cell_type": "code",
   "execution_count": null,
   "id": "01d8a0be",
   "metadata": {},
   "outputs": [],
   "source": [
    "import pandas as pd\n",
    "\n",
    "# Sample data (you can replace this with your own DataFrame)\n",
    "data = {\n",
    "    'Name': ['Alice', 'Bob', 'Charlie'],\n",
    "    'Age': [25, 30, 22],\n",
    "    'City': ['Delhi', 'Mumbai', 'Bangalore']\n",
    "}\n",
    "\n",
    "df = pd.DataFrame(data)\n",
    "\n",
    "# Save to Excel\n",
    "df.to_excel(\"sample_data.xlsx\", index=False)\n"
   ]
  },
  {
   "cell_type": "code",
   "execution_count": 2,
   "id": "c3f4ec7f",
   "metadata": {},
   "outputs": [],
   "source": [
    "import pandas as pd\n",
    "\n",
    "# Sample DataFrames\n",
    "data1 = {\n",
    "    'Name': ['Alice', 'Bob'],\n",
    "    'Age': [25, 30]\n",
    "}\n",
    "df1 = pd.DataFrame(data1)\n",
    "\n",
    "data2 = {\n",
    "    'City': ['Delhi', 'Mumbai'],\n",
    "    'Population': [19000000, 20400000]\n",
    "}\n",
    "df2 = pd.DataFrame(data2)\n",
    "\n",
    "# Write to Excel with multiple sheets\n",
    "with pd.ExcelWriter('multi_sheet_data.xlsx', engine='openpyxl') as writer:\n",
    "    df1.to_excel(writer, sheet_name='People', index=False)\n",
    "    df2.to_excel(writer, sheet_name='Cities', index=False)\n"
   ]
  },
  {
   "cell_type": "code",
   "execution_count": 9,
   "id": "edcd24e0",
   "metadata": {},
   "outputs": [
    {
     "name": "stdout",
     "output_type": "stream",
     "text": [
      "['People', 'Cities']\n"
     ]
    }
   ],
   "source": [
    "import pandas as pd\n",
    "\n",
    "# Load the Excel file\n",
    "excel_file = pd.ExcelFile('multi_sheet_data.xlsx')\n",
    "\n",
    "# Get list of sheet names\n",
    "sheet_names = excel_file.sheet_names\n",
    "\n",
    "print(sheet_names)\n"
   ]
  },
  {
   "cell_type": "code",
   "execution_count": 10,
   "id": "8874dedc",
   "metadata": {},
   "outputs": [
    {
     "name": "stdout",
     "output_type": "stream",
     "text": [
      "['People', 'Cities']\n",
      "['Name', 'Age']\n"
     ]
    }
   ],
   "source": [
    "import pandas as pd\n",
    "\n",
    "# Load the Excel file\n",
    "excel_file = pd.ExcelFile('multi_sheet_data.xlsx')\n",
    "\n",
    "# Display sheet names (optional)\n",
    "print(excel_file.sheet_names)\n",
    "\n",
    "# Load a specific sheet by name\n",
    "df = pd.read_excel(excel_file, sheet_name='People')\n",
    "\n",
    "# Fetch column names\n",
    "columns = df.columns.tolist()\n",
    "\n",
    "print(columns)\n"
   ]
  },
  {
   "cell_type": "code",
   "execution_count": 5,
   "id": "cd1f87c6",
   "metadata": {},
   "outputs": [
    {
     "name": "stdout",
     "output_type": "stream",
     "text": [
      "Available columns: ['Name', 'Age']\n",
      "Enter the column name you want to fetch: Name\n",
      "\n",
      "Data in column 'Name':\n",
      "\n",
      "0    Alice\n",
      "1      Bob\n",
      "Name: Name, dtype: object\n"
     ]
    }
   ],
   "source": [
    "import pandas as pd\n",
    "\n",
    "# Load the Excel file\n",
    "excel_file = pd.ExcelFile('multi_sheet_data.xlsx')\n",
    "\n",
    "# Choose the sheet\n",
    "sheet_name = 'People'\n",
    "df = pd.read_excel(excel_file, sheet_name=sheet_name)\n",
    "\n",
    "# Display available columns (optional)\n",
    "print(\"Available columns:\", df.columns.tolist())\n",
    "\n",
    "# Get column name from user\n",
    "col_name = input(\"Enter the column name you want to fetch: \")\n",
    "\n",
    "# Check if column exists\n",
    "if col_name in df.columns:\n",
    "    print(f\"\\nData in column '{col_name}':\\n\")\n",
    "    print(df[col_name])\n",
    "else:\n",
    "    print(\"Column not found.\")\n"
   ]
  },
  {
   "cell_type": "code",
   "execution_count": 11,
   "id": "0a7f424a",
   "metadata": {},
   "outputs": [
    {
     "name": "stdout",
     "output_type": "stream",
     "text": [
      "Enter the path to the Excel file: Data - Multiple Worksheets.xlsx\n",
      "\n",
      "Available Sheets:\n",
      "1. Data 1\n",
      "2. Data 2\n",
      "Enter the sheet name or number: 1\n",
      "\n",
      "Available Columns:\n",
      "1. First Name\n",
      "2. Last Name\n",
      "3. City\n",
      "4. Gender\n",
      "Enter the column name or number to fetch: 3\n",
      "\n",
      "📊 Data from column 'City':\n",
      "0            Miami\n",
      "1           Denver\n",
      "2      Los Angeles\n",
      "3    San Francisco\n",
      "4         Portland\n",
      "Name: City, dtype: object\n",
      "\n",
      "Do you want to export this column to a new Excel file? (y/n): n\n"
     ]
    }
   ],
   "source": [
    "import pandas as pd\n",
    "import os\n",
    "\n",
    "def get_excel_file():\n",
    "    file_path = input(\"Enter the path to the Excel file: \").strip()\n",
    "    if not os.path.exists(file_path):\n",
    "        raise FileNotFoundError(\"File not found.\")\n",
    "    return pd.ExcelFile(file_path)\n",
    "\n",
    "def choose_sheet(excel_file):\n",
    "    sheets = excel_file.sheet_names\n",
    "    print(\"\\nAvailable Sheets:\")\n",
    "    for i, name in enumerate(sheets):\n",
    "        print(f\"{i + 1}. {name}\")\n",
    "    \n",
    "    choice = input(\"Enter the sheet name or number: \").strip()\n",
    "    if choice.isdigit():\n",
    "        idx = int(choice) - 1\n",
    "        if 0 <= idx < len(sheets):\n",
    "            return sheets[idx]\n",
    "        else:\n",
    "            raise ValueError(\"Invalid sheet number.\")\n",
    "    elif choice in sheets:\n",
    "        return choice\n",
    "    else:\n",
    "        raise ValueError(\"Invalid sheet name.\")\n",
    "\n",
    "def choose_column(df):\n",
    "    columns = df.columns.tolist()\n",
    "    print(\"\\nAvailable Columns:\")\n",
    "    for i, col in enumerate(columns):\n",
    "        print(f\"{i + 1}. {col}\")\n",
    "    \n",
    "    col_name = input(\"Enter the column name or number to fetch: \").strip()\n",
    "    if col_name.isdigit():\n",
    "        idx = int(col_name) - 1\n",
    "        if 0 <= idx < len(columns):\n",
    "            return columns[idx]\n",
    "        else:\n",
    "            raise ValueError(\"Invalid column number.\")\n",
    "    elif col_name in columns:\n",
    "        return col_name\n",
    "    else:\n",
    "        raise ValueError(\"Invalid column name.\")\n",
    "\n",
    "def export_column(df, col_name):\n",
    "    export_choice = input(\"\\nDo you want to export this column to a new Excel file? (y/n): \").strip().lower()\n",
    "    if export_choice == 'y':\n",
    "        new_df = df[[col_name]]\n",
    "        export_path = f\"{col_name}_export.xlsx\"\n",
    "        new_df.to_excel(export_path, index=False)\n",
    "        print(f\"Column exported to: {export_path}\")\n",
    "\n",
    "def main():\n",
    "    try:\n",
    "        excel_file = get_excel_file()\n",
    "        sheet = choose_sheet(excel_file)\n",
    "        df = pd.read_excel(excel_file, sheet_name=sheet)\n",
    "        col_name = choose_column(df)\n",
    "        \n",
    "        print(f\"\\n📊 Data from column '{col_name}':\")\n",
    "        print(df[col_name])\n",
    "        \n",
    "        export_column(df, col_name)\n",
    "    \n",
    "    except Exception as e:\n",
    "        print(f\"\\n❌ Error: {e}\")\n",
    "\n",
    "if __name__ == \"__main__\":\n",
    "    main()\n"
   ]
  },
  {
   "cell_type": "code",
   "execution_count": 7,
   "id": "0f0d5c55",
   "metadata": {},
   "outputs": [
    {
     "ename": "ModuleNotFoundError",
     "evalue": "No module named 'streamlit'",
     "output_type": "error",
     "traceback": [
      "\u001b[1;31m---------------------------------------------------------------------------\u001b[0m",
      "\u001b[1;31mModuleNotFoundError\u001b[0m                       Traceback (most recent call last)",
      "Input \u001b[1;32mIn [7]\u001b[0m, in \u001b[0;36m<cell line: 3>\u001b[1;34m()\u001b[0m\n\u001b[0;32m      1\u001b[0m \u001b[38;5;66;03m# streamlit_app.py\u001b[39;00m\n\u001b[1;32m----> 3\u001b[0m \u001b[38;5;28;01mimport\u001b[39;00m \u001b[38;5;21;01mstreamlit\u001b[39;00m \u001b[38;5;28;01mas\u001b[39;00m \u001b[38;5;21;01mst\u001b[39;00m\n\u001b[0;32m      4\u001b[0m \u001b[38;5;28;01mimport\u001b[39;00m \u001b[38;5;21;01mpandas\u001b[39;00m \u001b[38;5;28;01mas\u001b[39;00m \u001b[38;5;21;01mpd\u001b[39;00m\n\u001b[0;32m      5\u001b[0m \u001b[38;5;28;01mfrom\u001b[39;00m \u001b[38;5;21;01mio\u001b[39;00m \u001b[38;5;28;01mimport\u001b[39;00m BytesIO\n",
      "\u001b[1;31mModuleNotFoundError\u001b[0m: No module named 'streamlit'"
     ]
    }
   ],
   "source": []
  },
  {
   "cell_type": "code",
   "execution_count": null,
   "id": "0cb42c93",
   "metadata": {},
   "outputs": [],
   "source": []
  }
 ],
 "metadata": {
  "kernelspec": {
   "display_name": "Python 3 (ipykernel)",
   "language": "python",
   "name": "python3"
  },
  "language_info": {
   "codemirror_mode": {
    "name": "ipython",
    "version": 3
   },
   "file_extension": ".py",
   "mimetype": "text/x-python",
   "name": "python",
   "nbconvert_exporter": "python",
   "pygments_lexer": "ipython3",
   "version": "3.9.12"
  }
 },
 "nbformat": 4,
 "nbformat_minor": 5
}
